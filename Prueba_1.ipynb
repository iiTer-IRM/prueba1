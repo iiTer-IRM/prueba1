{
  "nbformat": 4,
  "nbformat_minor": 0,
  "metadata": {
    "colab": {
      "provenance": [],
      "mount_file_id": "1Nb52tMiarDadsFs16V_5xEFbbB-Ie0fW",
      "authorship_tag": "ABX9TyOWyqJ0MxLEjSc4LRwf4AZW",
      "include_colab_link": true
    },
    "kernelspec": {
      "name": "python3",
      "display_name": "Python 3"
    },
    "language_info": {
      "name": "python"
    }
  },
  "cells": [
    {
      "cell_type": "markdown",
      "metadata": {
        "id": "view-in-github",
        "colab_type": "text"
      },
      "source": [
        "<a href=\"https://colab.research.google.com/github/iiTer-IRM/prueba1/blob/main/Prueba_1.ipynb\" target=\"_parent\"><img src=\"https://colab.research.google.com/assets/colab-badge.svg\" alt=\"Open In Colab\"/></a>"
      ]
    },
    {
      "cell_type": "markdown",
      "source": [
        "# **IRM come back**"
      ],
      "metadata": {
        "id": "OjRj3xSMOgl3"
      }
    },
    {
      "cell_type": "markdown",
      "source": [
        "Una prueba de cuaderno yupiter .. el código me lo ha creado **ChatGPT** solo con decirle \"*escribe código en python paraa representar una gráfica de una parábóla\""
      ],
      "metadata": {
        "id": "QAn7nMXpNVzY"
      }
    },
    {
      "cell_type": "code",
      "execution_count": 2,
      "metadata": {
        "colab": {
          "base_uri": "https://localhost:8080/",
          "height": 295
        },
        "id": "sA0Nfi7cNTVv",
        "outputId": "cab3f3a2-2b23-4423-a6c9-d6bdd5285976"
      },
      "outputs": [
        {
          "output_type": "display_data",
          "data": {
            "text/plain": [
              "<Figure size 432x288 with 1 Axes>"
            ],
            "image/png": "[encoded data removed]"
          },
          "metadata": {
            "needs_background": "light"
          }
        }
      ],
      "source": [
        "import matplotlib.pyplot as plt\n",
        "import numpy as np\n",
        "\n",
        "# Definir la función de la parábola\n",
        "def parabola(x):\n",
        "    return x**2\n",
        "\n",
        "# Crear un array de valores de x desde -10 hasta 10 con un incremento de 0.1\n",
        "x = np.arange(-10, 20, 0.1)\n",
        "\n",
        "# Calcular los valores correspondientes de y para cada valor de x\n",
        "y = parabola(x)\n",
        "\n",
        "# Crear la figura y el objeto de la gráfica\n",
        "fig, ax = plt.subplots()\n",
        "\n",
        "# Trazar la parábola con una línea continua azul y un ancho de línea de 2\n",
        "ax.plot(x, y, color='blue', linewidth=2)\n",
        "\n",
        "# Personalizar el título y las etiquetas de los ejes\n",
        "ax.set_title('Gráfica de una parábola')\n",
        "ax.set_xlabel('x')\n",
        "ax.set_ylabel('y')\n",
        "\n",
        "# Mostrar la gráfica\n",
        "plt.show()\n"
      ]
    }
  ]
}